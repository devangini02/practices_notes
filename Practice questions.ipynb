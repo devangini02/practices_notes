{
 "cells": [
  {
   "cell_type": "markdown",
   "id": "3d1b1328",
   "metadata": {},
   "source": [
    "# 1. Variables"
   ]
  },
  {
   "cell_type": "markdown",
   "id": "55703682",
   "metadata": {},
   "source": [
    "##### Practice 1\n",
    "###### Correct the code"
   ]
  },
  {
   "cell_type": "code",
   "execution_count": null,
   "id": "f3e65579",
   "metadata": {},
   "outputs": [],
   "source": [
    "a, b, c, d = [1, 2, 3]\n",
    "print(a)"
   ]
  },
  {
   "cell_type": "markdown",
   "id": "4f9f7f4e",
   "metadata": {},
   "source": [
    "##### Practice 2\n",
    "###### Correct the code"
   ]
  },
  {
   "cell_type": "code",
   "execution_count": null,
   "id": "191ef4ad",
   "metadata": {},
   "outputs": [],
   "source": [
    "a, b, c = 1, 2, 3, 4\n",
    "Print(b)"
   ]
  },
  {
   "cell_type": "markdown",
   "id": "c546f0a7",
   "metadata": {},
   "source": [
    "##### Practice 3\n",
    "###### Correct the code"
   ]
  },
  {
   "cell_type": "code",
   "execution_count": null,
   "id": "0ac439b1",
   "metadata": {},
   "outputs": [],
   "source": [
    "a = b = c = Potato\n",
    "print(c)"
   ]
  },
  {
   "cell_type": "markdown",
   "id": "386cea22",
   "metadata": {},
   "source": [
    "# 2. Data Types"
   ]
  },
  {
   "cell_type": "markdown",
   "id": "2ea1f479",
   "metadata": {},
   "source": [
    "###### Practice 4\n",
    "###### Convert the following into an integer, float, and a boolean and confirm the data type after convertion"
   ]
  },
  {
   "cell_type": "code",
   "execution_count": null,
   "id": "e75a7d18",
   "metadata": {},
   "outputs": [],
   "source": [
    "a = '4'"
   ]
  },
  {
   "cell_type": "markdown",
   "id": "c87d2bed",
   "metadata": {},
   "source": [
    "# 3. Mathematical Operations"
   ]
  },
  {
   "cell_type": "markdown",
   "id": "5185f461",
   "metadata": {},
   "source": [
    "###### Practice 5\n",
    "###### Find the value of P(5) of this Fifth Order Legendre Polynomial without using a calculator\n",
    "\n",
    "$$y = P(x) = \\frac{1}{8} (63x^5 - 70x^3 + 15x)$$"
   ]
  },
  {
   "cell_type": "markdown",
   "id": "98bff966",
   "metadata": {},
   "source": [
    "<div class=\"alert alert-block alert-info\">\n",
    "<b>Tip:</b> Use as many variables as you may to break down a big problem into smaller parts.\n",
    "</div>"
   ]
  },
  {
   "cell_type": "markdown",
   "id": "34843791",
   "metadata": {},
   "source": [
    "###### Practice 6\n",
    "###### Solve the following Quadratic equation"
   ]
  },
  {
   "cell_type": "markdown",
   "id": "af877153",
   "metadata": {},
   "source": [
    "$$ax^2 + bx + c = 0$$\n",
    "\n",
    "such an equation can be solved using the quadratic formula\n",
    "\n",
    "$$ x =  \\frac{-b \\pm \\sqrt{b^2 - 4ac}}{2a} $$\n",
    "\n",
    "$x^2 + 5x +6 = 0$"
   ]
  },
  {
   "cell_type": "markdown",
   "id": "bd4365db",
   "metadata": {},
   "source": [
    "<div class=\"alert alert-block alert-info\">\n",
    "<b>Tip:</b> Use Internt to find code in numpy to find square root.\n",
    "</div>"
   ]
  },
  {
   "cell_type": "markdown",
   "id": "615aa45b",
   "metadata": {},
   "source": [
    "# 4. Strings"
   ]
  },
  {
   "cell_type": "markdown",
   "id": "cf537aea",
   "metadata": {},
   "source": [
    "##### Practice 7\n",
    "###### Use your web surfing skills to find the code for finding number of times the letter 'a' in present in the following text"
   ]
  },
  {
   "cell_type": "code",
   "execution_count": null,
   "id": "0827e338",
   "metadata": {},
   "outputs": [],
   "source": [
    "Macbeth = 'The play begins with the brief appearance of a trio of witches and then moves to a military camp, where the Scottish King Duncan hears the news that his generals, Macbeth and Banquo, have defeated two separate invading armies—one from Ireland, led by the rebel Macdonwald, and one from Norway. Following their pitched battle with these enemy forces, Macbeth and Banquo encounter the witches as they cross a moor. The witches prophesy that Macbeth will be made thane (a rank of Scottish nobility) of Cawdor and eventually King of Scotland. They also prophesy that Macbeth’s companion, Banquo, will beget a line of Scottish kings, although Banquo will never be king himself'"
   ]
  },
  {
   "cell_type": "markdown",
   "id": "85d86117",
   "metadata": {},
   "source": [
    "###### Practice 8\n",
    "###### Use your web surfing skills to find a code for find the length of the string 'Macbeth'"
   ]
  },
  {
   "cell_type": "code",
   "execution_count": null,
   "id": "bb9ed1ab",
   "metadata": {},
   "outputs": [],
   "source": []
  },
  {
   "cell_type": "markdown",
   "id": "a192cd6c",
   "metadata": {},
   "source": [
    "# 5. If else"
   ]
  },
  {
   "cell_type": "markdown",
   "id": "87b37d88",
   "metadata": {},
   "source": [
    "###### Practice 9\n",
    "###### Write a code to assign grades to students when they enter their percentages\n",
    "\n",
    "\n",
    "\n",
    "\n",
    "If they get 90 or above, assign A+ grade\n",
    "\n",
    "\n",
    "\n",
    "\n",
    "If they get between 80 and 89 inclusive, assign A grade\n",
    "\n",
    "\n",
    "\n",
    "\n",
    "if they get between 70 and 79 inclusive, assign B grade\n",
    "\n",
    "\n",
    "\n",
    "\n",
    "If they get between 60 and 69 inclusive, assign C grade\n",
    "\n",
    "\n",
    "\n",
    "\n",
    "\n",
    "If they get between 50 and 59 inclusive, assign D grade\n",
    "\n",
    "\n",
    "\n",
    "\n",
    "If they get between 40 and 49 inclusive, assign E grade"
   ]
  },
  {
   "cell_type": "markdown",
   "id": "633b55ae",
   "metadata": {},
   "source": [
    "# 6. While Loop"
   ]
  },
  {
   "cell_type": "markdown",
   "id": "2a6e2e41",
   "metadata": {},
   "source": [
    "###### Practice 10\n",
    "###### Correct the code"
   ]
  },
  {
   "cell_type": "code",
   "execution_count": null,
   "id": "6b207a99",
   "metadata": {},
   "outputs": [],
   "source": [
    "i = 15\n",
    "\n",
    "While i > 10\n",
    "print(i**2)\n",
    "\n",
    "i -= 1 # This is the equivalent of i = i - 1"
   ]
  },
  {
   "cell_type": "markdown",
   "id": "172c8b27",
   "metadata": {},
   "source": [
    "###### Practice 11\n",
    "###### Why is the code not doing anything?"
   ]
  },
  {
   "cell_type": "code",
   "execution_count": null,
   "id": "49f7f1f2",
   "metadata": {},
   "outputs": [],
   "source": [
    "i = 2\n",
    "\n",
    "while i >= 5:\n",
    "    print(i*10)\n",
    "    i += 1"
   ]
  },
  {
   "cell_type": "markdown",
   "id": "fe43bc5d",
   "metadata": {},
   "source": [
    "# 7. For loop"
   ]
  },
  {
   "cell_type": "markdown",
   "id": "d906e8f6",
   "metadata": {},
   "source": [
    "###### Practice 12\n",
    "###### Write a code which outputs the square root of the first 15 whole numbers (including 0)"
   ]
  },
  {
   "cell_type": "code",
   "execution_count": null,
   "id": "56bcebdc",
   "metadata": {},
   "outputs": [],
   "source": []
  },
  {
   "cell_type": "markdown",
   "id": "bba1999a",
   "metadata": {},
   "source": [
    "# Optional Problem"
   ]
  },
  {
   "cell_type": "markdown",
   "id": "40c88549",
   "metadata": {},
   "source": [
    "$$f_\\text{square}(x) = \\frac{4}{\\pi} \\sum_{n = 1, 3, 5, \\ldots}^{\\infty} \\frac{1}{n} \\sin\\left(\\frac{n \\pi x}{L}\\right) \\qquad \\qquad$$"
   ]
  },
  {
   "cell_type": "markdown",
   "id": "426df7e6",
   "metadata": {},
   "source": [
    "The function above calculates the Fourier Series of a square wave. \n",
    "\n",
    "\n",
    "\n",
    "\n",
    "For the sake of simplicity you may not sum up till n = infinite, Instead just go from $n = 1$ to $n = 3$.\n",
    "\n",
    "\n",
    "\n",
    "\n",
    "\n",
    "Find $f(5)$ when $L = 5$"
   ]
  },
  {
   "cell_type": "markdown",
   "id": "adfc6be2",
   "metadata": {},
   "source": [
    "Theoretically, you know all the concepts you need to apply to solve the above problem, however if you are absolutely baffled by the mere sight of this complication equation, let alone solve it, don't worry. This is a very hard problem. We do not expect you to solve it. This is just a glimpse of what you will be able to solve in a few weeks of time as we will teach you the codes to solve these kinds of problems along with other types."
   ]
  },
  {
   "cell_type": "code",
   "execution_count": null,
   "id": "51adcaaa",
   "metadata": {},
   "outputs": [],
   "source": []
  }
 ],
 "metadata": {
  "kernelspec": {
   "display_name": "Python 3 (ipykernel)",
   "language": "python",
   "name": "python3"
  },
  "language_info": {
   "codemirror_mode": {
    "name": "ipython",
    "version": 3
   },
   "file_extension": ".py",
   "mimetype": "text/x-python",
   "name": "python",
   "nbconvert_exporter": "python",
   "pygments_lexer": "ipython3",
   "version": "3.10.9"
  }
 },
 "nbformat": 4,
 "nbformat_minor": 5
}
