{
  "cells": [
    {
      "cell_type": "markdown",
      "id": "54161860",
      "metadata": {
        "id": "54161860"
      },
      "source": [
        "***\n",
        "\n",
        "This notebook contains the code samples found in Chapter 5, Section 1 of [Deep Learning with R](https://www.manning.com/books/deep-learning-with-r). Note that the original text features far more content, in particular further explanations and figures: in this notebook, you will only find source code and related comments.\n",
        "\n",
        "***\n",
        "\n",
        "We're about to dive into the theory of what convnets are and why they have been so successful at computer vision tasks. But first, let's take a practical look at a simple convnet example. It uses a convnet to classify MNIST digits, a task we performed in chapter 2 using a densely connected network (our test accuracy then was 97.8%). Even though the convnet will be basic, its accuracy will blow out of the water that of the densely connected model from chapter 2.\n",
        "\n",
        "First let's take a look at the underlying data."
      ]
    },
    {
      "cell_type": "code",
      "source": [
        "install.packages(\"keras\")\n",
        "library(keras)"
      ],
      "metadata": {
        "colab": {
          "base_uri": "https://localhost:8080/"
        },
        "id": "q0-K4yDn5fqM",
        "outputId": "8d5b5219-0423-414d-af25-9239eeb8d8e9"
      },
      "id": "q0-K4yDn5fqM",
      "execution_count": 1,
      "outputs": [
        {
          "output_type": "stream",
          "name": "stderr",
          "text": [
            "Installing package into ‘/usr/local/lib/R/site-library’\n",
            "(as ‘lib’ is unspecified)\n",
            "\n",
            "also installing the dependencies ‘Rcpp’, ‘RcppTOML’, ‘here’, ‘png’, ‘config’, ‘tfautograph’, ‘reticulate’, ‘tensorflow’, ‘tfruns’, ‘zeallot’\n",
            "\n",
            "\n"
          ]
        }
      ]
    },
    {
      "cell_type": "markdown",
      "source": [
        "## load and inspect image data"
      ],
      "metadata": {
        "id": "c5DeRWHqBeFL"
      },
      "id": "c5DeRWHqBeFL"
    },
    {
      "cell_type": "code",
      "source": [
        "mnist <- dataset_mnist()\n",
        "\n",
        "class(mnist)\n",
        "names(mnist)\n",
        "\n",
        "class(mnist$train)\n",
        "names(mnist$train)\n",
        "\n",
        "class(mnist$train$x)\n",
        "dim(mnist$train$x)\n",
        "class(mnist$train$y)\n",
        "dim(mnist$train$y)\n",
        "\n",
        "print(mnist$train$y[1:10])"
      ],
      "metadata": {
        "colab": {
          "base_uri": "https://localhost:8080/",
          "height": 173
        },
        "id": "dhrKkPp5CDKM",
        "outputId": "5997ffcc-43a8-4f99-c3ba-a8f701d56408"
      },
      "id": "dhrKkPp5CDKM",
      "execution_count": 2,
      "outputs": [
        {
          "output_type": "display_data",
          "data": {
            "text/html": [
              "'list'"
            ],
            "text/markdown": "'list'",
            "text/latex": "'list'",
            "text/plain": [
              "[1] \"list\""
            ]
          },
          "metadata": {}
        },
        {
          "output_type": "display_data",
          "data": {
            "text/html": [
              "<style>\n",
              ".list-inline {list-style: none; margin:0; padding: 0}\n",
              ".list-inline>li {display: inline-block}\n",
              ".list-inline>li:not(:last-child)::after {content: \"\\00b7\"; padding: 0 .5ex}\n",
              "</style>\n",
              "<ol class=list-inline><li>'train'</li><li>'test'</li></ol>\n"
            ],
            "text/markdown": "1. 'train'\n2. 'test'\n\n\n",
            "text/latex": "\\begin{enumerate*}\n\\item 'train'\n\\item 'test'\n\\end{enumerate*}\n",
            "text/plain": [
              "[1] \"train\" \"test\" "
            ]
          },
          "metadata": {}
        },
        {
          "output_type": "display_data",
          "data": {
            "text/html": [
              "'list'"
            ],
            "text/markdown": "'list'",
            "text/latex": "'list'",
            "text/plain": [
              "[1] \"list\""
            ]
          },
          "metadata": {}
        },
        {
          "output_type": "display_data",
          "data": {
            "text/html": [
              "<style>\n",
              ".list-inline {list-style: none; margin:0; padding: 0}\n",
              ".list-inline>li {display: inline-block}\n",
              ".list-inline>li:not(:last-child)::after {content: \"\\00b7\"; padding: 0 .5ex}\n",
              "</style>\n",
              "<ol class=list-inline><li>'x'</li><li>'y'</li></ol>\n"
            ],
            "text/markdown": "1. 'x'\n2. 'y'\n\n\n",
            "text/latex": "\\begin{enumerate*}\n\\item 'x'\n\\item 'y'\n\\end{enumerate*}\n",
            "text/plain": [
              "[1] \"x\" \"y\""
            ]
          },
          "metadata": {}
        },
        {
          "output_type": "display_data",
          "data": {
            "text/html": [
              "'array'"
            ],
            "text/markdown": "'array'",
            "text/latex": "'array'",
            "text/plain": [
              "[1] \"array\""
            ]
          },
          "metadata": {}
        },
        {
          "output_type": "display_data",
          "data": {
            "text/html": [
              "<style>\n",
              ".list-inline {list-style: none; margin:0; padding: 0}\n",
              ".list-inline>li {display: inline-block}\n",
              ".list-inline>li:not(:last-child)::after {content: \"\\00b7\"; padding: 0 .5ex}\n",
              "</style>\n",
              "<ol class=list-inline><li>60000</li><li>28</li><li>28</li></ol>\n"
            ],
            "text/markdown": "1. 60000\n2. 28\n3. 28\n\n\n",
            "text/latex": "\\begin{enumerate*}\n\\item 60000\n\\item 28\n\\item 28\n\\end{enumerate*}\n",
            "text/plain": [
              "[1] 60000    28    28"
            ]
          },
          "metadata": {}
        },
        {
          "output_type": "display_data",
          "data": {
            "text/html": [
              "'array'"
            ],
            "text/markdown": "'array'",
            "text/latex": "'array'",
            "text/plain": [
              "[1] \"array\""
            ]
          },
          "metadata": {}
        },
        {
          "output_type": "display_data",
          "data": {
            "text/html": [
              "60000"
            ],
            "text/markdown": "60000",
            "text/latex": "60000",
            "text/plain": [
              "[1] 60000"
            ]
          },
          "metadata": {}
        },
        {
          "output_type": "stream",
          "name": "stdout",
          "text": [
            " [1] 5 0 4 1 9 2 1 3 1 4\n"
          ]
        }
      ]
    },
    {
      "cell_type": "code",
      "execution_count": 3,
      "id": "3428cc7b",
      "metadata": {
        "id": "3428cc7b"
      },
      "outputs": [],
      "source": [
        "# organize data\n",
        "\n",
        "c(c(train_images, train_labels), c(test_images, test_labels)) %<-% mnist\n",
        "\n",
        "train_images <- array_reshape(train_images, c(60000, 28, 28, 1))\n",
        "train_images <- train_images / 255\n",
        "\n",
        "test_images <- array_reshape(test_images, c(10000, 28, 28, 1))\n",
        "test_images <- test_images / 255\n",
        "\n",
        "train_labels <- to_categorical(train_labels)\n",
        "test_labels <- to_categorical(test_labels)"
      ]
    },
    {
      "cell_type": "code",
      "execution_count": 4,
      "id": "ab744a75",
      "metadata": {
        "colab": {
          "base_uri": "https://localhost:8080/",
          "height": 1000
        },
        "id": "ab744a75",
        "outputId": "c5103401-3974-45f0-ff72-ccdc6e3ebc2e"
      },
      "outputs": [
        {
          "output_type": "stream",
          "name": "stdout",
          "text": [
            "      [,1] [,2] [,3] [,4] [,5] [,6]      [,7]       [,8]      [,9]      [,10]\n",
            " [1,]    0    0    0    0    0    0 0.0000000 0.00000000 0.0000000 0.00000000\n",
            " [2,]    0    0    0    0    0    0 0.0000000 0.00000000 0.0000000 0.00000000\n",
            " [3,]    0    0    0    0    0    0 0.0000000 0.00000000 0.0000000 0.00000000\n",
            " [4,]    0    0    0    0    0    0 0.0000000 0.00000000 0.0000000 0.00000000\n",
            " [5,]    0    0    0    0    0    0 0.0000000 0.00000000 0.0000000 0.00000000\n",
            " [6,]    0    0    0    0    0    0 0.0000000 0.00000000 0.0000000 0.00000000\n",
            " [7,]    0    0    0    0    0    0 0.0000000 0.00000000 0.0000000 0.00000000\n",
            " [8,]    0    0    0    0    0    0 0.0000000 0.00000000 0.0000000 0.00000000\n",
            " [9,]    0    0    0    0    0    0 0.0000000 0.00000000 0.0000000 0.00000000\n",
            "[10,]    0    0    0    0    0    0 0.0000000 0.00000000 0.0000000 0.00000000\n",
            "[11,]    0    0    0    0    0    0 0.0000000 0.00000000 0.0000000 0.18823529\n",
            "[12,]    0    0    0    0    0    0 0.0000000 0.00000000 0.1490196 0.64705882\n",
            "[13,]    0    0    0    0    0    0 0.0000000 0.02745098 0.6980392 0.98823529\n",
            "[14,]    0    0    0    0    0    0 0.0000000 0.22352941 0.9882353 0.98823529\n",
            "[15,]    0    0    0    0    0    0 0.0000000 0.77647059 0.9921569 0.74509804\n",
            "[16,]    0    0    0    0    0    0 0.2980392 0.96470588 0.9882353 0.43921569\n",
            "[17,]    0    0    0    0    0    0 0.3333333 0.98823529 0.9019608 0.09803922\n",
            "[18,]    0    0    0    0    0    0 0.3333333 0.98823529 0.8745098 0.00000000\n",
            "[19,]    0    0    0    0    0    0 0.3333333 0.98823529 0.5686275 0.00000000\n",
            "[20,]    0    0    0    0    0    0 0.3372549 0.99215686 0.8823529 0.00000000\n",
            "[21,]    0    0    0    0    0    0 0.3333333 0.98823529 0.9764706 0.57254902\n",
            "[22,]    0    0    0    0    0    0 0.3333333 0.98823529 0.9882353 0.98823529\n",
            "[23,]    0    0    0    0    0    0 0.1098039 0.78039216 0.9882353 0.98823529\n",
            "[24,]    0    0    0    0    0    0 0.0000000 0.09803922 0.5019608 0.98823529\n",
            "[25,]    0    0    0    0    0    0 0.0000000 0.00000000 0.0000000 0.00000000\n",
            "[26,]    0    0    0    0    0    0 0.0000000 0.00000000 0.0000000 0.00000000\n",
            "[27,]    0    0    0    0    0    0 0.0000000 0.00000000 0.0000000 0.00000000\n",
            "[28,]    0    0    0    0    0    0 0.0000000 0.00000000 0.0000000 0.00000000\n",
            "          [,11]      [,12]     [,13]     [,14]      [,15]     [,16]     [,17]\n",
            " [1,] 0.0000000 0.00000000 0.0000000 0.0000000 0.00000000 0.0000000 0.0000000\n",
            " [2,] 0.0000000 0.00000000 0.0000000 0.0000000 0.00000000 0.0000000 0.0000000\n",
            " [3,] 0.0000000 0.00000000 0.0000000 0.0000000 0.00000000 0.0000000 0.0000000\n",
            " [4,] 0.0000000 0.00000000 0.0000000 0.0000000 0.00000000 0.0000000 0.0000000\n",
            " [5,] 0.0000000 0.00000000 0.0000000 0.0000000 0.00000000 0.2000000 0.6235294\n",
            " [6,] 0.0000000 0.00000000 0.0000000 0.0000000 0.18823529 0.9333333 0.9882353\n",
            " [7,] 0.0000000 0.00000000 0.0000000 0.2117647 0.89019608 0.9921569 0.9882353\n",
            " [8,] 0.0000000 0.03921569 0.2352941 0.8784314 0.98823529 0.9921569 0.9882353\n",
            " [9,] 0.0000000 0.63921569 0.9882353 0.9882353 0.98823529 0.9921569 0.9882353\n",
            "[10,] 0.2000000 0.93333333 0.9921569 0.9921569 0.74509804 0.4470588 0.9921569\n",
            "[11,] 0.9333333 0.98823529 0.9882353 0.7019608 0.04705882 0.2941176 0.4745098\n",
            "[12,] 0.9921569 0.91372549 0.8156863 0.3294118 0.00000000 0.0000000 0.0000000\n",
            "[13,] 0.9411765 0.27843137 0.0745098 0.1098039 0.00000000 0.0000000 0.0000000\n",
            "[14,] 0.2470588 0.00000000 0.0000000 0.0000000 0.00000000 0.0000000 0.0000000\n",
            "[15,] 0.0000000 0.00000000 0.0000000 0.0000000 0.00000000 0.0000000 0.0000000\n",
            "[16,] 0.0000000 0.00000000 0.0000000 0.0000000 0.00000000 0.0000000 0.0000000\n",
            "[17,] 0.0000000 0.00000000 0.0000000 0.0000000 0.00000000 0.0000000 0.0000000\n",
            "[18,] 0.0000000 0.00000000 0.0000000 0.0000000 0.00000000 0.0000000 0.0000000\n",
            "[19,] 0.0000000 0.00000000 0.0000000 0.0000000 0.00000000 0.0000000 0.1882353\n",
            "[20,] 0.0000000 0.00000000 0.0000000 0.0000000 0.00000000 0.4470588 0.9333333\n",
            "[21,] 0.1882353 0.11372549 0.3333333 0.6980392 0.88235294 0.9921569 0.8745098\n",
            "[22,] 0.8980392 0.84313725 0.9882353 0.9882353 0.98823529 0.7686275 0.5098039\n",
            "[23,] 0.9921569 0.98823529 0.9882353 0.9137255 0.56862745 0.0000000 0.0000000\n",
            "[24,] 0.9921569 0.98823529 0.5529412 0.1450980 0.00000000 0.0000000 0.0000000\n",
            "[25,] 0.0000000 0.00000000 0.0000000 0.0000000 0.00000000 0.0000000 0.0000000\n",
            "[26,] 0.0000000 0.00000000 0.0000000 0.0000000 0.00000000 0.0000000 0.0000000\n",
            "[27,] 0.0000000 0.00000000 0.0000000 0.0000000 0.00000000 0.0000000 0.0000000\n",
            "[28,] 0.0000000 0.00000000 0.0000000 0.0000000 0.00000000 0.0000000 0.0000000\n",
            "           [,18]      [,19]     [,20]     [,21]      [,22]      [,23] [,24]\n",
            " [1,] 0.00000000 0.00000000 0.0000000 0.0000000 0.00000000 0.00000000     0\n",
            " [2,] 0.00000000 0.00000000 0.0000000 0.0000000 0.00000000 0.00000000     0\n",
            " [3,] 0.00000000 0.00000000 0.0000000 0.0000000 0.00000000 0.00000000     0\n",
            " [4,] 0.00000000 0.00000000 0.0000000 0.0000000 0.00000000 0.00000000     0\n",
            " [5,] 0.99215686 0.62352941 0.1960784 0.0000000 0.00000000 0.00000000     0\n",
            " [6,] 0.98823529 0.98823529 0.9294118 0.0000000 0.00000000 0.00000000     0\n",
            " [7,] 0.93725490 0.91372549 0.9882353 0.2235294 0.02352941 0.00000000     0\n",
            " [8,] 0.79215686 0.32941176 0.9882353 0.9921569 0.47843137 0.00000000     0\n",
            " [9,] 0.98823529 0.37647059 0.7411765 0.9921569 0.65490196 0.00000000     0\n",
            "[10,] 0.89411765 0.18431373 0.3098039 1.0000000 0.65882353 0.00000000     0\n",
            "[11,] 0.08235294 0.00000000 0.0000000 0.9921569 0.95294118 0.19607843     0\n",
            "[12,] 0.00000000 0.00000000 0.0000000 0.9921569 0.98823529 0.64705882     0\n",
            "[13,] 0.00000000 0.00000000 0.0000000 0.9921569 0.98823529 0.76470588     0\n",
            "[14,] 0.00000000 0.00000000 0.0000000 0.9921569 0.98823529 0.76470588     0\n",
            "[15,] 0.00000000 0.00000000 0.0000000 1.0000000 0.99215686 0.76862745     0\n",
            "[16,] 0.00000000 0.00000000 0.0000000 0.9921569 0.98823529 0.58039216     0\n",
            "[17,] 0.00000000 0.02745098 0.5294118 0.9921569 0.72941176 0.04705882     0\n",
            "[18,] 0.02745098 0.51372549 0.9882353 0.8823529 0.27843137 0.00000000     0\n",
            "[19,] 0.64705882 0.98823529 0.6784314 0.0000000 0.00000000 0.00000000     0\n",
            "[20,] 0.99215686 0.63529412 0.0000000 0.0000000 0.00000000 0.00000000     0\n",
            "[21,] 0.65490196 0.21960784 0.0000000 0.0000000 0.00000000 0.00000000     0\n",
            "[22,] 0.00000000 0.00000000 0.0000000 0.0000000 0.00000000 0.00000000     0\n",
            "[23,] 0.00000000 0.00000000 0.0000000 0.0000000 0.00000000 0.00000000     0\n",
            "[24,] 0.00000000 0.00000000 0.0000000 0.0000000 0.00000000 0.00000000     0\n",
            "[25,] 0.00000000 0.00000000 0.0000000 0.0000000 0.00000000 0.00000000     0\n",
            "[26,] 0.00000000 0.00000000 0.0000000 0.0000000 0.00000000 0.00000000     0\n",
            "[27,] 0.00000000 0.00000000 0.0000000 0.0000000 0.00000000 0.00000000     0\n",
            "[28,] 0.00000000 0.00000000 0.0000000 0.0000000 0.00000000 0.00000000     0\n",
            "      [,25] [,26] [,27] [,28]\n",
            " [1,]     0     0     0     0\n",
            " [2,]     0     0     0     0\n",
            " [3,]     0     0     0     0\n",
            " [4,]     0     0     0     0\n",
            " [5,]     0     0     0     0\n",
            " [6,]     0     0     0     0\n",
            " [7,]     0     0     0     0\n",
            " [8,]     0     0     0     0\n",
            " [9,]     0     0     0     0\n",
            "[10,]     0     0     0     0\n",
            "[11,]     0     0     0     0\n",
            "[12,]     0     0     0     0\n",
            "[13,]     0     0     0     0\n",
            "[14,]     0     0     0     0\n",
            "[15,]     0     0     0     0\n",
            "[16,]     0     0     0     0\n",
            "[17,]     0     0     0     0\n",
            "[18,]     0     0     0     0\n",
            "[19,]     0     0     0     0\n",
            "[20,]     0     0     0     0\n",
            "[21,]     0     0     0     0\n",
            "[22,]     0     0     0     0\n",
            "[23,]     0     0     0     0\n",
            "[24,]     0     0     0     0\n",
            "[25,]     0     0     0     0\n",
            "[26,]     0     0     0     0\n",
            "[27,]     0     0     0     0\n",
            "[28,]     0     0     0     0\n"
          ]
        },
        {
          "output_type": "display_data",
          "data": {
            "text/plain": [
              "plot without title"
            ],
            "image/png": "[encoded data removed]"
          },
          "metadata": {
            "image/png": {
              "width": 420,
              "height": 420
            }
          }
        }
      ],
      "source": [
        "# underlying data is array of greyscale\n",
        "\n",
        "print(train_images[2, , , ])\n",
        "\n",
        "# see https://stackoverflow.com/questions/31882079/r-image-plots-matrix-rotated\n",
        "# for logic of this plot\n",
        "\n",
        "plot_t <- function(photo_array, raster = FALSE) {\n",
        "  temp <- apply(photo_array, 2, rev)\n",
        "  image(t(temp), col = grey(seq(0, 1, length = 256)), useRaster = raster)\n",
        "}\n",
        "\n",
        "plot_t(train_images[2, , , ])"
      ]
    },
    {
      "cell_type": "markdown",
      "id": "83eae5a7",
      "metadata": {
        "id": "83eae5a7"
      },
      "source": [
        "The following lines of code show you what a basic convnet looks like.  It's a stack of `layer_conv_2d()` and `layer_max_pooling_2d()` layers. You'll see in a minute exactly what they do.\n",
        "\n",
        "Importantly, a convnet takes as input tensors of shape `(image_height, image_width, image_channels)` (not including the batch dimension). In this case, we'll configure the convnet to process inputs of size `(28, 28, 1)`, which is the format of MNIST images. We do this by passing the argument `input_shape = c(28, 28, 1)` to the first layer.\n"
      ]
    },
    {
      "cell_type": "markdown",
      "source": [
        "## build and fit CNN for predicting image class"
      ],
      "metadata": {
        "id": "ql8wGxfLBnrJ"
      },
      "id": "ql8wGxfLBnrJ"
    },
    {
      "cell_type": "code",
      "execution_count": 5,
      "id": "cef00567",
      "metadata": {
        "id": "cef00567"
      },
      "outputs": [],
      "source": [
        "model <- keras_model_sequential() %>%\n",
        "  layer_conv_2d(filters = 32, kernel_size = c(3, 3), activation = \"relu\",\n",
        "                input_shape = c(28, 28, 1)) %>%\n",
        "  layer_max_pooling_2d(pool_size = c(2, 2)) %>%\n",
        "  layer_conv_2d(filters = 64, kernel_size = c(3, 3), activation = \"relu\") %>%\n",
        "  layer_max_pooling_2d(pool_size = c(2, 2)) %>%\n",
        "  layer_conv_2d(filters = 64, kernel_size = c(3, 3), activation = \"relu\")"
      ]
    },
    {
      "cell_type": "markdown",
      "id": "80a836ef",
      "metadata": {
        "id": "80a836ef"
      },
      "source": [
        "Let's display the architecture of our convnet so far:"
      ]
    },
    {
      "cell_type": "code",
      "execution_count": 6,
      "id": "a4717770",
      "metadata": {
        "colab": {
          "base_uri": "https://localhost:8080/"
        },
        "id": "a4717770",
        "outputId": "cae4861a-f73d-4cdc-9d91-0df61c2a4cb1"
      },
      "outputs": [
        {
          "output_type": "stream",
          "name": "stdout",
          "text": [
            "Model: \"sequential\"\n",
            "________________________________________________________________________________\n",
            " Layer (type)                       Output Shape                    Param #     \n",
            "================================================================================\n",
            " conv2d_2 (Conv2D)                  (None, 26, 26, 32)              320         \n",
            " max_pooling2d_1 (MaxPooling2D)     (None, 13, 13, 32)              0           \n",
            " conv2d_1 (Conv2D)                  (None, 11, 11, 64)              18496       \n",
            " max_pooling2d (MaxPooling2D)       (None, 5, 5, 64)                0           \n",
            " conv2d (Conv2D)                    (None, 3, 3, 64)                36928       \n",
            "================================================================================\n",
            "Total params: 55744 (217.75 KB)\n",
            "Trainable params: 55744 (217.75 KB)\n",
            "Non-trainable params: 0 (0.00 Byte)\n",
            "________________________________________________________________________________\n"
          ]
        }
      ],
      "source": [
        "summary(model)\n",
        "\n",
        "# number of parameters from first convolutional layer is 32 (filters) * 9 (params per filter) + 32 (biases)\n",
        "# number of parameters from second convolutional layer is 64 (filters) * 9 (params per filter) * 32 (channels) + 64 (biases)\n",
        "# number of parameters from third convolutional layer is 64 (filters) * 9 (params per filter) * 64 (channel) + 64 (biases)"
      ]
    },
    {
      "cell_type": "markdown",
      "id": "0df0f48c",
      "metadata": {
        "id": "0df0f48c"
      },
      "source": [
        "You can see that the output of every `layer_conv_2d()` and `layer_max_pooling_2d()` is a 3D tensor of shape `(height, width, channels)`. The width and height dimensions tend to shrink as you go deeper in the network. The number of channels is controlled by the first argument passed to the `layer_conv_2d()` (32 or 64).\n",
        "\n",
        "The next step is to feed the last output tensor (of shape `(3, 3, 64)`) into a densely connected classifier network like those you're already familiar with: a stack of dense layers. These classifiers process vectors, which are 1D, whereas the current output is a 3D tensor. First we have to flatten the 3D outputs to 1D, and then add a few dense layers on top."
      ]
    },
    {
      "cell_type": "code",
      "execution_count": 7,
      "id": "2ac6f775",
      "metadata": {
        "id": "2ac6f775"
      },
      "outputs": [],
      "source": [
        "model <- model %>%\n",
        "  layer_flatten() %>%\n",
        "  layer_dense(units = 64, activation = \"relu\") %>%\n",
        "  layer_dense(units = 10, activation = \"softmax\")"
      ]
    },
    {
      "cell_type": "markdown",
      "id": "c9ae540b",
      "metadata": {
        "id": "c9ae540b"
      },
      "source": [
        "We are going to do 10-way classification, so we use a final layer with 10 outputs and a softmax activation. Now here's what our network looks like:"
      ]
    },
    {
      "cell_type": "code",
      "execution_count": 8,
      "id": "90e1388a",
      "metadata": {
        "colab": {
          "base_uri": "https://localhost:8080/"
        },
        "id": "90e1388a",
        "outputId": "92d17735-bb5e-4e3d-9942-6d5f04a6b1de"
      },
      "outputs": [
        {
          "output_type": "stream",
          "name": "stdout",
          "text": [
            "Model: \"sequential\"\n",
            "________________________________________________________________________________\n",
            " Layer (type)                       Output Shape                    Param #     \n",
            "================================================================================\n",
            " conv2d_2 (Conv2D)                  (None, 26, 26, 32)              320         \n",
            " max_pooling2d_1 (MaxPooling2D)     (None, 13, 13, 32)              0           \n",
            " conv2d_1 (Conv2D)                  (None, 11, 11, 64)              18496       \n",
            " max_pooling2d (MaxPooling2D)       (None, 5, 5, 64)                0           \n",
            " conv2d (Conv2D)                    (None, 3, 3, 64)                36928       \n",
            " flatten (Flatten)                  (None, 576)                     0           \n",
            " dense_1 (Dense)                    (None, 64)                      36928       \n",
            " dense (Dense)                      (None, 10)                      650         \n",
            "================================================================================\n",
            "Total params: 93322 (364.54 KB)\n",
            "Trainable params: 93322 (364.54 KB)\n",
            "Non-trainable params: 0 (0.00 Byte)\n",
            "________________________________________________________________________________\n"
          ]
        }
      ],
      "source": [
        "summary(model)\n",
        "\n",
        "# number of parameters from first dense layer is 64 (neurons) * 576 (3*3*64 = flattened vector) + 64 (biases)\n",
        "# number of parameters from second dense layer is 10 (classes) * 64 (input vector) + 10 (biases)"
      ]
    },
    {
      "cell_type": "markdown",
      "id": "b48066c7",
      "metadata": {
        "id": "b48066c7"
      },
      "source": [
        "As you can see, the `(3, 3, 64)` outputs are flattened into vectors of shape `(576)` before going through two dense layers.\n",
        "\n",
        "Now, let's train the convnet on the MNIST digits. We'll reuse a lot of the code from the MNIST example in chapter 2."
      ]
    },
    {
      "cell_type": "code",
      "execution_count": 9,
      "id": "42a5c0e4",
      "metadata": {
        "echo": true,
        "tags": [
          "remove_output"
        ],
        "id": "42a5c0e4"
      },
      "outputs": [],
      "source": [
        "## takes a few minutes, so skip to load model\n",
        "\n",
        "model %>% compile(\n",
        "  optimizer = \"rmsprop\",\n",
        "  loss = \"categorical_crossentropy\",\n",
        "  metrics = c(\"accuracy\")\n",
        ")\n",
        "\n",
        "model %>% fit(\n",
        "  train_images, train_labels,\n",
        "  epochs = 5, batch_size = 64\n",
        ")\n",
        "\n",
        "save_model_hdf5(model, \"./mnist.hdf5\")"
      ]
    },
    {
      "cell_type": "markdown",
      "source": [
        "## explore fitted model"
      ],
      "metadata": {
        "id": "4WB3FxvABxBR"
      },
      "id": "4WB3FxvABxBR"
    },
    {
      "cell_type": "code",
      "source": [
        "model_fit <- load_model_hdf5(\"./05_mnist.hdf5\")"
      ],
      "metadata": {
        "id": "z4wUVlTMAwFr"
      },
      "id": "z4wUVlTMAwFr",
      "execution_count": 10,
      "outputs": []
    },
    {
      "cell_type": "markdown",
      "id": "164d37a4",
      "metadata": {
        "id": "164d37a4"
      },
      "source": [
        "Let's evaluate the model on the test data:"
      ]
    },
    {
      "cell_type": "code",
      "execution_count": 11,
      "id": "20f4c596",
      "metadata": {
        "echo": true,
        "tags": [
          "remove_output"
        ],
        "id": "20f4c596"
      },
      "outputs": [],
      "source": [
        "results <- model_fit %>% evaluate(test_images, test_labels)"
      ]
    },
    {
      "cell_type": "code",
      "execution_count": 12,
      "id": "fc99e861",
      "metadata": {
        "colab": {
          "base_uri": "https://localhost:8080/",
          "height": 34
        },
        "id": "fc99e861",
        "outputId": "0b7b5531-9cb4-478d-af24-216dcedb3707"
      },
      "outputs": [
        {
          "output_type": "display_data",
          "data": {
            "text/html": [
              "<style>\n",
              ".dl-inline {width: auto; margin:0; padding: 0}\n",
              ".dl-inline>dt, .dl-inline>dd {float: none; width: auto; display: inline-block}\n",
              ".dl-inline>dt::after {content: \":\\0020\"; padding-right: .5ex}\n",
              ".dl-inline>dt:not(:first-of-type) {padding-left: .5ex}\n",
              "</style><dl class=dl-inline><dt>loss</dt><dd>0.0248363837599754</dd><dt>accuracy</dt><dd>0.992799997329712</dd></dl>\n"
            ],
            "text/markdown": "loss\n:   0.0248363837599754accuracy\n:   0.992799997329712\n\n",
            "text/latex": "\\begin{description*}\n\\item[loss] 0.0248363837599754\n\\item[accuracy] 0.992799997329712\n\\end{description*}\n",
            "text/plain": [
              "      loss   accuracy \n",
              "0.02483638 0.99280000 "
            ]
          },
          "metadata": {}
        }
      ],
      "source": [
        "results"
      ]
    },
    {
      "cell_type": "markdown",
      "id": "dbfa9fe1",
      "metadata": {
        "id": "dbfa9fe1"
      },
      "source": [
        "We can also explore the model parameters a bit.  This is adapted from https://machinelearningmastery.com/how-to-visualize-filters-and-feature-maps-in-convolutional-neural-networks/."
      ]
    },
    {
      "cell_type": "code",
      "execution_count": 30,
      "id": "dc1c016f",
      "metadata": {
        "colab": {
          "base_uri": "https://localhost:8080/",
          "height": 566
        },
        "id": "dc1c016f",
        "outputId": "04064ccb-e614-4194-cc73-04981da06470"
      },
      "outputs": [
        {
          "output_type": "display_data",
          "data": {
            "text/html": [
              "'conv2d_2'"
            ],
            "text/markdown": "'conv2d_2'",
            "text/latex": "'conv2d\\_2'",
            "text/plain": [
              "[1] \"conv2d_2\""
            ]
          },
          "metadata": {}
        },
        {
          "output_type": "display_data",
          "data": {
            "text/html": [
              "<table class=\"dataframe\">\n",
              "<caption>A matrix: 3 × 3 of type dbl</caption>\n",
              "<tbody>\n",
              "\t<tr><td>-0.008152056</td><td>-0.09509458</td><td>-0.27095395</td></tr>\n",
              "\t<tr><td>-0.007999404</td><td> 0.13218246</td><td> 0.11522303</td></tr>\n",
              "\t<tr><td> 0.031938475</td><td> 0.06608814</td><td> 0.08901446</td></tr>\n",
              "</tbody>\n",
              "</table>\n"
            ],
            "text/markdown": "\nA matrix: 3 × 3 of type dbl\n\n| -0.008152056 | -0.09509458 | -0.27095395 |\n| -0.007999404 |  0.13218246 |  0.11522303 |\n|  0.031938475 |  0.06608814 |  0.08901446 |\n\n",
            "text/latex": "A matrix: 3 × 3 of type dbl\n\\begin{tabular}{lll}\n\t -0.008152056 & -0.09509458 & -0.27095395\\\\\n\t -0.007999404 &  0.13218246 &  0.11522303\\\\\n\t  0.031938475 &  0.06608814 &  0.08901446\\\\\n\\end{tabular}\n",
            "text/plain": [
              "     [,1]         [,2]        [,3]       \n",
              "[1,] -0.008152056 -0.09509458 -0.27095395\n",
              "[2,] -0.007999404  0.13218246  0.11522303\n",
              "[3,]  0.031938475  0.06608814  0.08901446"
            ]
          },
          "metadata": {}
        },
        {
          "output_type": "display_data",
          "data": {
            "text/plain": [
              "plot without title"
            ],
            "image/png": "[encoded data removed]"
          },
          "metadata": {
            "image/png": {
              "width": 420,
              "height": 420
            }
          }
        }
      ],
      "source": [
        "# explore estimated filter M from first layer of CNN\n",
        "M <- 10\n",
        "\n",
        "model_fit$layers[[1]]$name # name of first layer of network\n",
        "model_fit$layers[[1]]$get_weights()[[1]][, , , M] # estimated parameters for\n",
        "\n",
        "# plot of different convolutional filters\n",
        "\n",
        "min_f <- min(model_fit$layers[[1]]$get_weights()[[1]][, , , ])\n",
        "max_f <- max(model_fit$layers[[1]]$get_weights()[[1]][, , , ])\n",
        "\n",
        "# normalized version of second filter\n",
        "temp_f <- (model_fit$layers[[1]]$get_weights()[[1]][, , , M] - min_f) /\n",
        "  (max_f - min_f)\n",
        "\n",
        "plot_t(temp_f)"
      ]
    },
    {
      "cell_type": "markdown",
      "id": "c735aacc",
      "metadata": {
        "id": "c735aacc"
      },
      "source": [
        "Finally, we can associate images with these convolutional filters."
      ]
    },
    {
      "cell_type": "code",
      "execution_count": 31,
      "id": "54fad75b",
      "metadata": {
        "colab": {
          "base_uri": "https://localhost:8080/",
          "height": 857
        },
        "id": "54fad75b",
        "outputId": "c5b394e7-5c56-4c93-a7d1-6d7960e42053"
      },
      "outputs": [
        {
          "output_type": "display_data",
          "data": {
            "text/plain": [
              "plot without title"
            ],
            "image/png": "[encoded data removed]"
          },
          "metadata": {
            "image/png": {
              "width": 420,
              "height": 420
            }
          }
        },
        {
          "output_type": "display_data",
          "data": {
            "text/plain": [
              "plot without title"
            ],
            "image/png": "[encoded data removed]"
          },
          "metadata": {
            "image/png": {
              "width": 420,
              "height": 420
            }
          }
        }
      ],
      "source": [
        "model1 <- keras_model(inputs = model$inputs, outputs = model$layers[[1]]$output)\n",
        "\n",
        "# careful about running out of memory\n",
        "temp2 <- predict(model1, train_images[1:10, , , ])\n",
        "\n",
        "# plot association of first training image with second filter\n",
        "plot_t(temp2[1, , , M])\n",
        "\n",
        "# plot association of tenth training image with second filter\n",
        "plot_t(temp2[10, , , M])"
      ]
    }
  ],
  "metadata": {
    "jupytext": {
      "cell_metadata_filter": "name,tags,echo,-all",
      "main_language": "R",
      "notebook_metadata_filter": "-all"
    },
    "colab": {
      "provenance": []
    },
    "kernelspec": {
      "name": "ir",
      "display_name": "R"
    },
    "language_info": {
      "name": "R"
    }
  },
  "nbformat": 4,
  "nbformat_minor": 5
}